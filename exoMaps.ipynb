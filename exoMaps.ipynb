import seaborn as sns
import pandas as pd
import warnings
import matplotlib.pyplot as plt
import numpy
data = pd.read_csv('data/house_pricing.csv')
data.describe()
lasts = data.tail(15)
plt.matshow(data.corr())
plt.show()