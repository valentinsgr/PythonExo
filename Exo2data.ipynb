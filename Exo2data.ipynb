import seaborn as sns
import pandas as pd
import warnings
import matplotlib.pyplot as plt
import numpy
sns.relplot(x='item_price', y='date', data=data.sample(150))
sns.relplot(x='item_price', y='date', data=data.sample(50))
f, ax = plt.subplots(figsize=(20,6))
sns.relplot(x="date", y="item_price", data = data, kind="line", ax = ax)
plt.show()
data['date'] = pd.to_datetime(data['date'])
sns.relplot(x='item_price', y='date', data=data.sample(50))