{
 "cells": [
  {
   "cell_type": "code",
   "execution_count": 61,
   "metadata": {},
   "outputs": [
    {
     "name": "stdout",
     "output_type": "stream",
     "text": [
      "Nom : Salgueiro \n",
      "Prenom : Valentin \n",
      "Date de naissance : 07 / 10 / 1996\n",
      "Salaire : 1200\n",
      "Service : Dev\n"
     ]
    }
   ],
   "source": [
    "class DateNaissance:\n",
    "    #Constructeur\n",
    "    def __init__(self, jour, mois, annee):\n",
    "        self.jour = jour\n",
    "        self.mois = mois\n",
    "        self.annee = annee\n",
    "    \n",
    "class Personne:\n",
    "    #Constructeur\n",
    "    def __init__(self, nom, prenom, dateNaissance):\n",
    "        self.nom = nom\n",
    "        self.prenom = prenom\n",
    "        self.dateNaissance = dateNaissance\n",
    "        \n",
    "    #Méthodes\n",
    "    def affiche(self):\n",
    "        print(\"Nom :\", self.nom , \"\\nPrenom :\" , self.prenom, \"\\nDate de naissance :\", self.dateNaissance.jour, \"/\",self.dateNaissance.mois, \"/\",self.dateNaissance.annee, sep = \" \")\n",
    "\n",
    "class Employe(Personne):\n",
    "    #Constructeur\n",
    "    def __init__(self, nom, prenom, dateNaissance, salaire):\n",
    "        self.nom = nom\n",
    "        self.prenom = prenom\n",
    "        self.dateNaissance = dateNaissance\n",
    "        self.salaire = salaire\n",
    "        \n",
    "    #Méthodes   \n",
    "    def afficheEmploye(self):\n",
    "        Personne.affiche(self)\n",
    "        print(\"Salaire :\", self.salaire)\n",
    "\n",
    "class Chef(Employe):\n",
    "    #Constructeur\n",
    "    def __init__(self, nom, prenom, dateNaissance, salaire, service):\n",
    "        self.nom = nom\n",
    "        self.prenom = prenom\n",
    "        self.dateNaissance = dateNaissance\n",
    "        self.salaire = salaire\n",
    "        self.service = service\n",
    "        \n",
    "    #Méthodes   \n",
    "    def afficheChef(self):\n",
    "        Employe.afficheEmploye(self)\n",
    "        print(\"Service :\", self.service)\n",
    "        \n",
    "p = Personne(\"Dolenski\", \"Thomas\", DateNaissance(07,10,1996))\n",
    "e = Employe(\"Dolenski\", \"Thomas\", DateNaissance(07,10,1996), 1200)\n",
    "c = Chef(\"Dolenski\", \"Thomas\", DateNaissance(07,10,1996), 1200, \"Dev\")\n",
    "#p.affiche()\n",
    "#e.afficheEmploye()\n",
    "c.afficheChef()\n",
    "\n"
   ]
  },
  {
   "cell_type": "code",
   "execution_count": null,
   "metadata": {},
   "outputs": [],
   "source": []
  },
  {
   "cell_type": "code",
   "execution_count": null,
   "metadata": {},
   "outputs": [],
   "source": []
  }
 ],
 "metadata": {
  "kernelspec": {
   "display_name": "Python 3",
   "language": "python",
   "name": "python3"
  },
  "language_info": {
   "codemirror_mode": {
    "name": "ipython",
    "version": 3
   },
   "file_extension": ".py",
   "mimetype": "text/x-python",
   "name": "python",
   "nbconvert_exporter": "python",
   "pygments_lexer": "ipython3",
   "version": "3.7.6"
  }
 },
 "nbformat": 4,
 "nbformat_minor": 4
}
