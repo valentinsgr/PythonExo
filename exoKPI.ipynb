import seaborn as sns
import pandas as pd
import warnings
import matplotlib.pyplot as plt
import numpy
data.columns
data.stack().value_counts()
data.iloc[data['quantity'].argmax()]