{
 "cells": [
  {
   "cell_type": "code",
   "execution_count": 3,
   "metadata": {},
   "outputs": [
    {
     "name": "stdout",
     "output_type": "stream",
     "text": [
      "Le solde du compte bancaire de Dupont est de 1300\n"
     ]
    }
   ],
   "source": [
    "class CompteBancaire: # Définition de notre classe Personne\n",
    "\n",
    "    \n",
    "    def __init__(self): # Notre méthode constructeur\n",
    "        self.nom = \"Dupont\"\n",
    "        self.somme = 800\n",
    "        \n",
    "    def retrait(self, montant):\n",
    "        \n",
    "        self.somme -= montant\n",
    "        \n",
    "    def depot(self, montant):\n",
    "        \n",
    "        self.somme += montant\n",
    "    \n",
    "    def affiche(self):\n",
    "        \n",
    "        print(\"Le solde du compte bancaire de\", self.nom , \"est de\" , self.somme, sep=\" \")\n",
    "        \n",
    "compte1 = CompteBancaire()\n",
    "compte1.retrait(300)\n",
    "compte1.depot(800)\n",
    "compte1.affiche()\n"
   ]
  },
  {
   "cell_type": "code",
   "execution_count": null,
   "metadata": {},
   "outputs": [],
   "source": []
  }
 ],
 "metadata": {
  "kernelspec": {
   "display_name": "Python 3",
   "language": "python",
   "name": "python3"
  },
  "language_info": {
   "codemirror_mode": {
    "name": "ipython",
    "version": 3
   },
   "file_extension": ".py",
   "mimetype": "text/x-python",
   "name": "python",
   "nbconvert_exporter": "python",
   "pygments_lexer": "ipython3",
   "version": "3.7.6"
  }
 },
 "nbformat": 4,
 "nbformat_minor": 4
}
